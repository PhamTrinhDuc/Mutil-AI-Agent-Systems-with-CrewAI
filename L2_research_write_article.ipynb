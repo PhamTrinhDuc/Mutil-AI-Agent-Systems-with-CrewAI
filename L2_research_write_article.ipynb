{
 "cells": [
  {
   "cell_type": "code",
   "execution_count": null,
   "metadata": {},
   "outputs": [],
   "source": []
  },
  {
   "cell_type": "markdown",
   "metadata": {},
   "source": [
    "## L2: Create Agents to Research and Write an Article"
   ]
  },
  {
   "cell_type": "markdown",
   "metadata": {},
   "source": [
    "In this lesson, you will be introduced to the foundational concepts of multi-agent systems and get an overview of the crewAI framework.\n",
    "\n",
    "The libraries are already installed in the classroom. If you're running this notebook on your own machine, you can install the following:\n",
    "\n",
    "!pip install crewai==0.28.8 crewai_tools==0.1.6 langchain_community==0.0.29"
   ]
  },
  {
   "cell_type": "code",
   "execution_count": 33,
   "metadata": {},
   "outputs": [],
   "source": [
    "# Warning control\n",
    "import warnings\n",
    "warnings.filterwarnings('ignore')"
   ]
  },
  {
   "cell_type": "markdown",
   "metadata": {},
   "source": [
    "* Import from the crewAI libray.\n"
   ]
  },
  {
   "cell_type": "code",
   "execution_count": 34,
   "metadata": {},
   "outputs": [],
   "source": [
    "from crewai import Agent, Task, Crew"
   ]
  },
  {
   "cell_type": "markdown",
   "metadata": {},
   "source": [
    "* As a LLM for your agents, you'll be using OpenAI's gpt-4o-mini.\n",
    "\n",
    "**Optional Note**: crewAI also allow other popular models to be used as a LLM for your Agents. You can see some of the examples at the bottom of the notebook.\n"
   ]
  },
  {
   "cell_type": "code",
   "execution_count": 35,
   "metadata": {},
   "outputs": [],
   "source": [
    "import os\n",
    "import dotenv\n",
    "\n",
    "dotenv.load_dotenv()\n",
    "\n",
    "os.environ[\"OPENAI_API_KEY\"] = os.getenv(\"OPENAI_API_KEY\")\n",
    "os.environ[\"OPENAI_MODEL_NAME\"] = \"gpt-4o-mini\""
   ]
  },
  {
   "cell_type": "markdown",
   "metadata": {},
   "source": [
    "## **CREATING AGENTS**\n",
    "\n",
    "* Define your Agents, and provide them a ```role```, ```goal``` and ```backstory```.\n",
    "* It has been seen that LLMs perform better when they are role playing."
   ]
  },
  {
   "cell_type": "markdown",
   "metadata": {},
   "source": [
    "### **Agent: Planner**\n",
    "\n",
    "Note: The benefit of using multiple strings :\n",
    "\n",
    "varname = \"line 1 of text\"\n",
    "          \"line 2 of text\"\n",
    "          \n",
    "versus the triple quote docstring:\n",
    "\n",
    "varname = \"\"\"line 1 of text\n",
    "             line 2 of text\n",
    "          \"\"\"\n",
    "          \n",
    "is that it can avoid adding those whitespaces and newline characters, making it better formatted to be passed to the LLM."
   ]
  },
  {
   "cell_type": "code",
   "execution_count": 36,
   "metadata": {},
   "outputs": [],
   "source": [
    "planner = Agent(\n",
    "    role=\"Content Planner\",\n",
    "    goal=\"Lập kế hoạch nội dung hấp dẫn và chính xác về mặt thực tế trên chủ đề: {topic}\",\n",
    "    backstory=\"Bạn đang lên kế hoạch cho một bài viết blog về chủ đề: {topic}.\" \n",
    "    \"Bạn thu thập thông tin giúp \" \"khán giả tìm hiểu điều gì đó \" \n",
    "    \"và đưa ra quyết định sáng suốt.\" \n",
    "    \"Công việc của bạn là cơ sở để \" \n",
    "    \"Content Writer viết một bài về chủ đề này.\",\n",
    "    allow_delegation=False,\n",
    "    verbose=True\n",
    ")"
   ]
  },
  {
   "cell_type": "markdown",
   "metadata": {},
   "source": [
    "### **Agent: Writer**"
   ]
  },
  {
   "cell_type": "code",
   "execution_count": 37,
   "metadata": {},
   "outputs": [],
   "source": [
    "writer = Agent(\n",
    "    role=\"Content writer\",\n",
    "    goal=\"Viết ý kiến ​​sâu sắc và chính xác về mặt thực tế về chủ đề: {topic}\",\n",
    "    backstory=\"Bạn đang viết \" \n",
    "        \"một ý kiến ​​mới về chủ đề: {topic}.\" \n",
    "        \"Bạn viết bài dựa trên công việc của \" \n",
    "        \"Người lập kế hoạch nội dung, người cung cấp dàn ý \" \n",
    "        \"và bối cảnh liên quan về chủ đề . \" \n",
    "        \"Bạn làm theo các mục tiêu chính và \" \n",
    "        \"hướng của dàn ý do Content Planner cung cấp \" \n",
    "        \"Bạn cũng cung cấp những hiểu biết khách quan và khách quan \" \n",
    "        \"và hỗ trợ chúng bằng thông tin do Content Planner cung cấp. \" \n",
    "        \"Bạn thừa nhận trong phần ý kiến ​​của mình \" \n",
    "        \"khi tuyên bố của bạn là ý kiến ​​\"\n",
    "        \"trái ngược với tuyên bố khách quan.\",\n",
    "    allow_delegation=False,\n",
    "    verbose=True  \n",
    ")"
   ]
  },
  {
   "cell_type": "markdown",
   "metadata": {},
   "source": [
    "### **Agent: Editor**"
   ]
  },
  {
   "cell_type": "code",
   "execution_count": 38,
   "metadata": {},
   "outputs": [],
   "source": [
    "editor = Agent(\n",
    "    role=\"Editor\",\n",
    "    goal=\"Chỉnh sửa một bài đăng blog nhất định để phù hợp với phong cách viết của tổ chức.\",\n",
    "    backstory=\"Bạn là biên tập viên nhận được một bài đăng blog từ Content Writer.\" \n",
    "                \"Mục tiêu của bạn là xem lại bài đăng blog \" \n",
    "                \"để đảm bảo rằng nó tuân theo các phương pháp hay nhất về báo chí,\" \n",
    "                \"cung cấp các quan điểm cân bằng\" \n",
    "                \"khi đưa ra ý kiến ​​hoặc khẳng định , \" \n",
    "                \"và cũng tránh các chủ đề gây tranh cãi lớn \" \n",
    "                \"hoặc các ý kiến ​​khi có thể.\",\n",
    "    allow_delegation=False,\n",
    "    verbose=True\n",
    ")"
   ]
  },
  {
   "cell_type": "markdown",
   "metadata": {},
   "source": [
    "### **Creating Tasks**\n",
    "\n",
    "* Define your Tasks, and provide them a ```description```, ```expected_output``` and ```agent```.\n"
   ]
  },
  {
   "cell_type": "markdown",
   "metadata": {},
   "source": [
    "### Task: Plan"
   ]
  },
  {
   "cell_type": "code",
   "execution_count": 39,
   "metadata": {},
   "outputs": [],
   "source": [
    "plan = Task(\n",
    "    description = (\n",
    "               \"1. Ưu tiên các xu hướng mới nhất, những người chơi chính,\" \"và những tin tức đáng chú ý về {topic}.\\n\"\n",
    "               \"2. Xác định đối tượng mục tiêu, xem xét \" \"mối quan tâm và điểm yếu của họ.\\n\" \n",
    "               \"3. Phát triển một bản trình bày chi tiết phác thảo nội dung bao gồm \" \"phần giới thiệu, các điểm chính và lời kêu gọi hành động.\\n\"\n",
    "               \"4. Bao gồm các từ khóa SEO và dữ liệu hoặc nguồn có liên quan.\"\n",
    "               ),\n",
    "    agent = planner,\n",
    "    expected_output = \"Tài liệu kế hoạch nội dung toàn diện \"\n",
    "    \"với dàn ý, phân tích đối tượng,\" \n",
    "    \"Từ khóa SEO và tài nguyên.\"\n",
    ")"
   ]
  },
  {
   "cell_type": "markdown",
   "metadata": {},
   "source": [
    "### Task: Write"
   ]
  },
  {
   "cell_type": "code",
   "execution_count": 40,
   "metadata": {},
   "outputs": [],
   "source": [
    "write = Task(\n",
    "    description = (\n",
    "        \"1. Sử dụng kế hoạch nội dung để tạo một bài đăng blog hấp dẫn về {topic}.\\n\" \n",
    "        \"2. Kết hợp các từ khóa SEO một cách tự nhiên.\\n\" \n",
    "        \"3. Các phần/Phụ đề được đặt tên chính xác theo cách hấp dẫn. \\n\" \n",
    "        \"4. Đảm bảo bài đăng có cấu trúc với phần giới thiệu hấp dẫn, nội dung sâu sắc và phần kết luận tóm tắt.\\n\" \n",
    "        \"5. Hiệu đính các lỗi ngữ pháp và phù hợp với giọng điệu của thương hiệu.\\n\"\n",
    "    ),\n",
    "    agent = writer,\n",
    "    expected_output = \"Một bài đăng trên blog được viết tốt \" \n",
    "    \"ở dạng markdown, sẵn sàng để xuất bản,\" \n",
    "    \"mỗi phần nên có 2 hoặc 3 đoạn.\",\n",
    ")\n"
   ]
  },
  {
   "cell_type": "markdown",
   "metadata": {},
   "source": [
    "### Task: Edit"
   ]
  },
  {
   "cell_type": "code",
   "execution_count": 41,
   "metadata": {},
   "outputs": [],
   "source": [
    "edit = Task(\n",
    "    description = (\n",
    "        \"Đọc lại bài đăng trên blog để tìm \" \n",
    "        \"lỗi ngữ pháp và sự phù hợp với tiếng nói của thương hiệu.\"\n",
    "    ),\n",
    "    agent = editor,\n",
    "    expected_output = \"Một bài đăng blog được viết tốt ở định dạng markdown,\" \n",
    "    \"sẵn sàng để xuất bản,\" \n",
    "    \"mỗi phần nên có 2 hoặc 3 đoạn văn.\",\n",
    ")\n"
   ]
  },
  {
   "cell_type": "markdown",
   "metadata": {},
   "source": [
    "## **Creating the Crew**\n",
    "\n",
    "* Create your crew of Agents\n",
    "* Pass the tasks to be performed by those agents.\n",
    "    * **Note**: For this simple example, the tasks will be performed sequentially (i.e they are dependent on \n",
    "    each other), so the order of the task in the list matters.\n",
    "* verbose=2 allows you to see all the logs of the execution."
   ]
  },
  {
   "cell_type": "code",
   "execution_count": 42,
   "metadata": {},
   "outputs": [
    {
     "name": "stderr",
     "output_type": "stream",
     "text": [
      "2024-10-18 13:29:19,349 - 136082972185664 - __init__.py-__init__:538 - WARNING: Overriding of current TracerProvider is not allowed\n"
     ]
    }
   ],
   "source": [
    "crew = Crew(\n",
    "    agents = [planner, writer, editor],\n",
    "    tasks = [plan, write, edit],\n",
    "    verbose = True,\n",
    "    async_execution=False,\n",
    "    output_file='new-blog-post.md' # Example of output customization\n",
    ")"
   ]
  },
  {
   "cell_type": "markdown",
   "metadata": {},
   "source": [
    "## **Running the Crew**\n",
    "\n",
    "**Note**: LLMs can provide different outputs for they same input, so what you get might be different than what you see in the video."
   ]
  },
  {
   "cell_type": "code",
   "execution_count": 43,
   "metadata": {},
   "outputs": [
    {
     "name": "stdout",
     "output_type": "stream",
     "text": [
      "\u001b[1m\u001b[95m# Agent:\u001b[00m \u001b[1m\u001b[92mContent Planner\u001b[00m\n",
      "\u001b[95m## Task:\u001b[00m \u001b[92m1. Ưu tiên các xu hướng mới nhất, những người chơi chính,và những tin tức đáng chú ý về Artificial Intelligence.\n",
      "2. Xác định đối tượng mục tiêu, xem xét mối quan tâm và điểm yếu của họ.\n",
      "3. Phát triển một bản trình bày chi tiết phác thảo nội dung bao gồm phần giới thiệu, các điểm chính và lời kêu gọi hành động.\n",
      "4. Bao gồm các từ khóa SEO và dữ liệu hoặc nguồn có liên quan.\u001b[00m\n",
      "\n",
      "\n",
      "\u001b[1m\u001b[95m# Agent:\u001b[00m \u001b[1m\u001b[92mContent Planner\u001b[00m\n",
      "\u001b[95m## Final Answer:\u001b[00m \u001b[92m\n",
      "**Content Plan for Blog Post on Artificial Intelligence**\n",
      "\n",
      "### Title: \"Khám Phá Trí Tuệ Nhân Tạo: Xu Hướng, Người Chơi Chính và Tương Lai\"\n",
      "\n",
      "---\n",
      "\n",
      "### 1. Giới thiệu (Introduction)\n",
      "- **Mục đích**: Giới thiệu về trí tuệ nhân tạo (AI) và tầm quan trọng ngày càng tăng của nó trong xã hội hiện đại.\n",
      "- **Nội dung**: Nói rõ về những gì cho độc giả biết: AI là gì, và tại sao nó lại là xu hướng nóng nhất trong công nghệ hiện nay.\n",
      "- **Nghĩa**: Tạo cảm hứng cho độc giả để họ muốn tìm hiểu sâu hơn về chủ đề này.\n",
      "\n",
      "---\n",
      "\n",
      "### 2. Đối Tượng Mục Tiêu (Target Audience)\n",
      "- **Ai là đối tượng?**: \n",
      "  - Chuyên gia trong lĩnh vực công nghệ và khoa học máy tính.\n",
      "  - Doanh nhân và nhà đầu tư đang tìm kiếm cơ hội mới trong AI.\n",
      "  - Sinh viên và người mới bắt đầu muốn tìm hiểu về AI.\n",
      "  \n",
      "- **Mối quan tâm**:\n",
      "  - Những ứng dụng thực tế của AI trong kinh doanh và đời sống hàng ngày.\n",
      "  - Cách AI sẽ thay đổi thị trường lao động trong tương lai.\n",
      "  \n",
      "- **Điểm yếu**:\n",
      "  - Thiếu hiểu biết về cách sử dụng AI hiệu quả.\n",
      "  - Sự lo lắng về tác động của AI đối với quyền riêng tư và đạo đức.\n",
      "\n",
      "---\n",
      "\n",
      "### 3. Nội dung chính (Main Points)\n",
      "\n",
      "#### 3.1 Xu Hướng Mới Nhất Trong AI\n",
      "- AI Generative (Sinh ra nội dung, hình ảnh, âm thanh)\n",
      "- AI trong IoT (Internet of Things)\n",
      "- Trí tuệ nhân tạo tự học (Machine Learning) và Deep Learning\n",
      "\n",
      "#### 3.2 Những Người Chơi Chính Trong Lĩnh Vực AI\n",
      "- Các công ty hàng đầu: Google, IBM, OpenAI, Microsoft\n",
      "- Các bạn trẻ khởi nghiệp và sự đổi mới trong ngành công nghệ này.\n",
      "\n",
      "#### 3.3 Tin Tức Đáng Chú Ý\n",
      "- Các sáng kiến mới, ví dụ như ChatGPT.\n",
      "- Các quy định mới liên quan đến AI và bảo mật thông tin.\n",
      "- Đầu tư vào AI dự kiến sẽ tăng gấp đôi trong vòng 5 năm tới.\n",
      "\n",
      "---\n",
      "\n",
      "### 4. Kêu gọi hành động (Call to Action)\n",
      "- Khuyến khích độc giả theo dõi tin tức và cập nhật mới về AI.\n",
      "- Mời gọi độc giả tham gia vào các khóa học online về AI.\n",
      "- Đưa ra các liên kết đến các báo cáo nghiên cứu hoặc hội thảo sắp tới.\n",
      "\n",
      "---\n",
      "\n",
      "### 5. Từ khóa SEO\n",
      "- Trí tuệ nhân tạo\n",
      "- Công nghệ AI\n",
      "- Xu hướng công nghệ\n",
      "- AI trong doanh nghiệp\n",
      "- Tương lai của AI\n",
      "\n",
      "---\n",
      "\n",
      "### 6. Tài nguyên (Resources)\n",
      "- Tài liệu nghiên cứu từ McKinsey và Forrester về sự phát triển của AI.\n",
      "- Các liên kết đến các khóa học miễn phí và có phí về AI từ Coursera, edX.\n",
      "- Sách \"Artificial Intelligence: A Guide to Intelligent Systems\" của Michael Negnevitsky.\n",
      "\n",
      "---\n",
      "\n",
      "### Kết luận\n",
      "Bài viết này sẽ cung cấp cái nhìn tổng quan về các xu hướng mới nhất và những người chơi chính trong lĩnh vực trí tuệ nhân tạo, đồng thời khám phá tin tức đáng chú ý. Nó cũng nhằm mục đích giáo dục và truyền cảm hứng cho độc giả, giúp họ có những quyết định sáng suốt hơn trong việc sử dụng và ứng dụng AI trong cuộc sống và công việc hàng ngày. \n",
      "\n",
      "**Lời kêu gọi hành động mạnh mẽ** sẽ giúp thu hút độc giả quay lại với trang web của bạn để tìm hiểu thêm và tham gia cộng đồng yêu thích công nghệ AI.\n",
      "\n",
      "--- \n",
      "\n",
      "As a result, this content plan not only outlines the essential points regarding Artificial Intelligence but also targets the right audience, incorporates SEO keywords, and presents valuable resources. This will ensure an engaging and informative blog post that resonates with readers.\u001b[00m\n",
      "\n",
      "\n",
      "\u001b[1m\u001b[95m# Agent:\u001b[00m \u001b[1m\u001b[92mContent writer\u001b[00m\n",
      "\u001b[95m## Task:\u001b[00m \u001b[92m1. Sử dụng kế hoạch nội dung để tạo một bài đăng blog hấp dẫn về Artificial Intelligence.\n",
      "2. Kết hợp các từ khóa SEO một cách tự nhiên.\n",
      "3. Các phần/Phụ đề được đặt tên chính xác theo cách hấp dẫn. \n",
      "4. Đảm bảo bài đăng có cấu trúc với phần giới thiệu hấp dẫn, nội dung sâu sắc và phần kết luận tóm tắt.\n",
      "5. Hiệu đính các lỗi ngữ pháp và phù hợp với giọng điệu của thương hiệu.\n",
      "\u001b[00m\n",
      "\n",
      "\n",
      "\u001b[1m\u001b[95m# Agent:\u001b[00m \u001b[1m\u001b[92mContent writer\u001b[00m\n",
      "\u001b[95m## Final Answer:\u001b[00m \u001b[92m\n",
      "# Khám Phá Trí Tuệ Nhân Tạo: Xu Hướng, Người Chơi Chính và Tương Lai\n",
      "\n",
      "## 1. Giới thiệu\n",
      "\n",
      "Trong thế giới công nghệ hiện đại, trí tuệ nhân tạo (AI) đã trở thành một trong những xu hướng nổi bật nhất, thu hút sự chú ý từ các chuyên gia công nghệ, doanh nhân và cả các nhà đầu tư. AI không chỉ đơn thuần là một thuật ngữ kỹ thuật, mà còn là một cuộc cách mạng mở ra những cơ hội và thách thức mới cho nhân loại. Thế nhưng, AI thực sự là gì? Làm thế nào nó có thể thay đổi cách chúng ta sống và làm việc? Trong bài viết này, chúng ta sẽ khám phá các khía cạnh của AI từ xu hướng đến những người chơi chính trong lĩnh vực này, đồng thời nêu bật những tin tức mới nhất đáng chú ý.\n",
      "\n",
      "## 2. Đối Tượng Mục Tiêu\n",
      "\n",
      "Điều quan trọng là xác định ai sẽ là đối tượng lý tưởng cho bài viết này. Chúng ta hướng đến:\n",
      "\n",
      "- **Chuyên gia trong lĩnh vực công nghệ:** Những người đã có nền tảng vững chắc và đang tìm kiếm các xu hướng mới trong nghiên cứu và phát triển AI.\n",
      "  \n",
      "- **Doanh nhân và nhà đầu tư:** Những người có nhãn quan kinh doanh sắc bén và đang tìm kiếm cơ hội mới trong lĩnh vực công nghệ AI, từ việc triển khai ứng dụng đến đầu tư vào các công ty khởi nghiệp.\n",
      "\n",
      "- **Sinh viên và người mới bắt đầu:** Những ai có sự quan tâm đặc biệt đến AI nhưng thiếu lượng thông tin và kiến thức cần thiết.\n",
      "\n",
      "Mọi người thường băn khoăn về các ứng dụng thực tiễn của AI và cách nó sẽ ảnh hưởng đến thị trường lao động trong tương lai. Một thách thức lớn là nhiều người vẫn chưa hiểu rõ về cách sử dụng AI một cách hiệu quả, cũng như lo ngại về quyền riêng tư và các vấn đề đạo đức có thể xảy ra.\n",
      "\n",
      "## 3. Nội dung chính\n",
      "\n",
      "### 3.1 Xu Hướng Mới Nhất Trong AI\n",
      "\n",
      "Trí tuệ nhân tạo đang ở một giai đoạn phát triển mạnh mẽ với nhiều xu hướng nổi bật, trong đó có:\n",
      "\n",
      "- **AI Generative:** Thuật ngữ này đề cập đến khả năng của các mô hình AI trong việc tạo ra nội dung, hình ảnh, âm thanh và video mới, mở ra cơ hội sáng tạo không giới hạn cho nghệ sĩ và nhà sản xuất.\n",
      "\n",
      "- **AI trong IoT:** Sự hợp tác giữa AI và Internet của Vạn Vật đang mở rộng, tăng cường khả năng tự động hóa và tối ưu hóa trong các thiết bị thông minh, từ nhà thông minh đến công nghiệp 4.0.\n",
      "\n",
      "- **Trí tuệ nhân tạo tự học:** Công nghệ Machine Learning và Deep Learning cho phép máy tính học hỏi từ dữ liệu mà không cần sự can thiệp của con người, từ đó cải thiện khả năng ra quyết định và tối ưu hóa quy trình kinh doanh.\n",
      "\n",
      "### 3.2 Những Người Chơi Chính Trong Lĩnh Vực AI\n",
      "\n",
      "Không thể không nhắc đến các công ty đang dẫn dắt trong lĩnh vực AI, bao gồm:\n",
      "\n",
      "- **Google:** Với các sản phẩm như TensorFlow, Google đã tạo dựng nền tảng vững chắc cho việc nghiên cứu và ứng dụng AI trên toàn cầu.\n",
      "\n",
      "- **IBM:** Một trong những tên tuổi lâu đời nhất, IBM đã đóng góp vào sự phát triển của AI thông qua Watson, một nền tảng phân tích dữ liệu và trí tuệ nhân tạo.\n",
      "\n",
      "- **OpenAI và Microsoft:** Sự kết hợp giữa hai gã khổng lồ này đại diện cho một trong những sáng kiến đổi mới mạnh mẽ nhất trong AI, tạo ra các ứng dụng như ChatGPT.\n",
      "\n",
      "Đồng thời, các doanh nghiệp khởi nghiệp trẻ tuổi cũng đang đóng một vai trò quan trọng, từ việc phát triển phần mềm AI cho đến công nghệ mới mẻ trong lĩnh vực này.\n",
      "\n",
      "### 3.3 Tin Tức Đáng Chú Ý\n",
      "\n",
      "Gần đây, nhiều sự kiện nổi bật đã xảy ra trong lĩnh vực AI:\n",
      "\n",
      "- **Sáng kiến ChatGPT:** Sự thành công vang dội của ChatGPT từ OpenAI đã mở ra nhiều cuộc thảo luận về việc sử dụng AI trong giao tiếp và sáng tạo nội dung.\n",
      "\n",
      "- **Quy định mới:** Các điều luật mới về AI và bảo mật thông tin đang xuất hiện, nhằm bảo vệ quyền lợi của người dùng và tạo ra một môi trường công bằng cho việc phát triển công nghệ.\n",
      "\n",
      "- **Dự báo tăng trưởng đầu tư:** Các chuyên gia cho biết, đầu tư vào AI sẽ tăng gấp đôi trong vòng 5 năm tới, cho thấy tiềm năng phát triển mạnh mẽ của lĩnh vực này.\n",
      "\n",
      "## 4. Kêu gọi hành động\n",
      "\n",
      "Hãy theo dõi các tin tức và cập nhật mới nhất về AI để không bỏ lỡ những cơ hội quan trọng. Nếu bạn muốn tìm hiểu sâu hơn, hãy tham gia vào các khóa học online từ các nền tảng như Coursera hay edX. Bên cạnh đó, chúng tôi cũng khuyến khích bạn tham khảo các tài liệu nghiên cứu từ McKinsey hay Forrester để nắm vững hơn về sự phát triển của AI.\n",
      "\n",
      "## 5. Kết luận\n",
      "\n",
      "Chúng ta vừa khám phá sơ lược về các xu hướng mới nhất và những người chơi chính trong lĩnh vực trí tuệ nhân tạo, cũng như các tin tức đáng chú ý. AI không chỉ là một công nghệ mà là một cuộc cách mạng hình thành nên tương lai của con người. Bằng việc hiểu rõ hơn về AI, bạn có thể đưa ra những quyết định thông minh hơn trong công việc và cuộc sống hàng ngày. Hãy tham gia vào cộng đồng yêu thích công nghệ AI để cùng nhau khám phá những điều kỳ diệu mà công nghệ này mang lại! \n",
      "\n",
      "--- \n",
      "\n",
      "Bài viết này không chỉ nhằm cung cấp cái nhìn tổng quan về lĩnh vực AI mà còn tạo cơ hội cho độc giả tìm hiểu và áp dụng trong cuộc sống và công việc của mình.\u001b[00m\n",
      "\n",
      "\n",
      "\u001b[1m\u001b[95m# Agent:\u001b[00m \u001b[1m\u001b[92mEditor\u001b[00m\n",
      "\u001b[95m## Task:\u001b[00m \u001b[92mĐọc lại bài đăng trên blog để tìm lỗi ngữ pháp và sự phù hợp với tiếng nói của thương hiệu.\u001b[00m\n",
      "\n",
      "\n",
      "\u001b[1m\u001b[95m# Agent:\u001b[00m \u001b[1m\u001b[92mEditor\u001b[00m\n",
      "\u001b[95m## Final Answer:\u001b[00m \u001b[92m\n",
      "# Khám Phá Trí Tuệ Nhân Tạo: Xu Hướng, Người Chơi Chính và Tương Lai\n",
      "\n",
      "## 1. Giới thiệu\n",
      "\n",
      "Trong thế giới công nghệ hiện đại, trí tuệ nhân tạo (AI) đã trở thành một trong những xu hướng nổi bật nhất, thu hút sự chú ý từ các chuyên gia công nghệ, doanh nhân và cả các nhà đầu tư. AI không chỉ đơn thuần là một thuật ngữ kỹ thuật, mà còn là một cuộc cách mạng mở ra những cơ hội và thách thức mới cho nhân loại. Thế nhưng, AI thực sự là gì? Làm thế nào nó có thể thay đổi cách chúng ta sống và làm việc? Trong bài viết này, chúng ta sẽ khám phá các khía cạnh của AI từ xu hướng đến những người chơi chính trong lĩnh vực này, đồng thời nêu bật những tin tức mới nhất đáng chú ý.\n",
      "\n",
      "## 2. Đối Tượng Mục Tiêu\n",
      "\n",
      "Điều quan trọng là xác định đối tượng lý tưởng cho bài viết này. Chúng ta hướng đến:\n",
      "\n",
      "- **Chuyên gia trong lĩnh vực công nghệ:** Những người đã có nền tảng vững chắc và đang tìm kiếm các xu hướng mới trong nghiên cứu và phát triển AI.\n",
      "\n",
      "- **Doanh nhân và nhà đầu tư:** Những người có nhãn quan kinh doanh sắc bén và đang tìm kiếm cơ hội mới trong lĩnh vực công nghệ AI, từ việc triển khai ứng dụng đến đầu tư vào các công ty khởi nghiệp.\n",
      "\n",
      "- **Sinh viên và người mới bắt đầu:** Những ai có sự quan tâm đặc biệt đến AI nhưng thiếu lượng thông tin và kiến thức cần thiết.\n",
      "\n",
      "Mọi người thường băn khoăn về các ứng dụng thực tiễn của AI và cách nó sẽ ảnh hưởng đến thị trường lao động trong tương lai. Một thách thức lớn là nhiều người vẫn chưa hiểu rõ về cách sử dụng AI một cách hiệu quả, cũng như lo ngại về quyền riêng tư và các vấn đề đạo đức có thể xảy ra.\n",
      "\n",
      "## 3. Nội dung chính\n",
      "\n",
      "### 3.1 Xu Hướng Mới Nhất Trong AI\n",
      "\n",
      "Trí tuệ nhân tạo đang ở một giai đoạn phát triển mạnh mẽ với nhiều xu hướng nổi bật, trong đó có:\n",
      "\n",
      "- **AI Generative:** Thuật ngữ này đề cập đến khả năng của các mô hình AI trong việc tạo ra nội dung, hình ảnh, âm thanh và video mới, mở ra cơ hội sáng tạo không giới hạn cho nghệ sĩ và nhà sản xuất.\n",
      "\n",
      "- **AI trong IoT:** Sự hợp tác giữa AI và Internet của Vạn Vật đang mở rộng, tăng cường khả năng tự động hóa và tối ưu hóa trong các thiết bị thông minh, từ nhà thông minh đến công nghiệp 4.0.\n",
      "\n",
      "- **Trí tuệ nhân tạo tự học:** Công nghệ Machine Learning và Deep Learning cho phép máy tính học hỏi từ dữ liệu mà không cần sự can thiệp của con người, từ đó cải thiện khả năng ra quyết định và tối ưu hóa quy trình kinh doanh.\n",
      "\n",
      "### 3.2 Những Người Chơi Chính Trong Lĩnh Vực AI\n",
      "\n",
      "Không thể không nhắc đến các công ty đang dẫn dắt trong lĩnh vực AI, bao gồm:\n",
      "\n",
      "- **Google:** Với các sản phẩm như TensorFlow, Google đã tạo dựng nền tảng vững chắc cho việc nghiên cứu và ứng dụng AI trên toàn cầu.\n",
      "\n",
      "- **IBM:** Một trong những tên tuổi lâu đời nhất, IBM đã đóng góp vào sự phát triển của AI thông qua Watson, một nền tảng phân tích dữ liệu và trí tuệ nhân tạo.\n",
      "\n",
      "- **OpenAI và Microsoft:** Sự kết hợp giữa hai gã khổng lồ này đại diện cho một trong những sáng kiến đổi mới mạnh mẽ nhất trong AI, tạo ra các ứng dụng như ChatGPT.\n",
      "\n",
      "Đồng thời, các doanh nghiệp khởi nghiệp trẻ tuổi cũng đang đóng một vai trò quan trọng, từ việc phát triển phần mềm AI cho đến công nghệ mới mẻ trong lĩnh vực này.\n",
      "\n",
      "### 3.3 Tin Tức Đáng Chú Ý\n",
      "\n",
      "Gần đây, nhiều sự kiện nổi bật đã xảy ra trong lĩnh vực AI:\n",
      "\n",
      "- **Sáng kiến ChatGPT:** Sự thành công vang dội của ChatGPT từ OpenAI đã mở ra nhiều cuộc thảo luận về việc sử dụng AI trong giao tiếp và sáng tạo nội dung.\n",
      "\n",
      "- **Quy định mới:** Các điều luật mới về AI và bảo mật thông tin đang xuất hiện, nhằm bảo vệ quyền lợi của người dùng và tạo ra một môi trường công bằng cho việc phát triển công nghệ.\n",
      "\n",
      "- **Dự báo tăng trưởng đầu tư:** Các chuyên gia cho biết, đầu tư vào AI sẽ tăng gấp đôi trong vòng 5 năm tới, cho thấy tiềm năng phát triển mạnh mẽ của lĩnh vực này.\n",
      "\n",
      "## 4. Kêu gọi hành động\n",
      "\n",
      "Hãy theo dõi các tin tức và cập nhật mới nhất về AI để không bỏ lỡ những cơ hội quan trọng. Nếu bạn muốn tìm hiểu sâu hơn, hãy tham gia vào các khóa học online từ các nền tảng như Coursera hay edX. Bên cạnh đó, chúng tôi cũng khuyến khích bạn tham khảo các tài liệu nghiên cứu từ McKinsey hay Forrester để nắm vững hơn về sự phát triển của AI.\n",
      "\n",
      "## 5. Kết luận\n",
      "\n",
      "Chúng ta vừa khám phá sơ lược về các xu hướng mới nhất và những người chơi chính trong lĩnh vực trí tuệ nhân tạo, cũng như các tin tức đáng chú ý. AI không chỉ là một công nghệ mà còn là một cuộc cách mạng hình thành nên tương lai của con người. Bằng việc hiểu rõ hơn về AI, bạn có thể đưa ra những quyết định thông minh hơn trong công việc và cuộc sống hàng ngày. Hãy tham gia vào cộng đồng yêu thích công nghệ AI để cùng nhau khám phá những điều kỳ diệu mà công nghệ này mang lại!\n",
      "\n",
      "---\n",
      "\n",
      "Bài viết này không chỉ nhằm cung cấp cái nhìn tổng quan về lĩnh vực AI mà còn tạo cơ hội cho độc giả tìm hiểu và áp dụng vào cuộc sống và công việc của mình.\u001b[00m\n",
      "\n",
      "\n"
     ]
    }
   ],
   "source": [
    "output = crew.kickoff(inputs = {\"topic\": \"Artificial Intelligence\"})\n"
   ]
  },
  {
   "cell_type": "code",
   "execution_count": 47,
   "metadata": {},
   "outputs": [
    {
     "name": "stdout",
     "output_type": "stream",
     "text": [
      "# Khám Phá Trí Tuệ Nhân Tạo: Xu Hướng, Người Chơi Chính và Tương Lai\n",
      "\n",
      "## 1. Giới thiệu\n",
      "\n",
      "Trong thế giới công nghệ hiện đại, trí tuệ nhân tạo (AI) đã trở thành một trong những xu hướng nổi bật nhất, thu hút sự chú ý từ các chuyên gia công nghệ, doanh nhân và cả các nhà đầu tư. AI không chỉ đơn thuần là một thuật ngữ kỹ thuật, mà còn là một cuộc cách mạng mở ra những cơ hội và thách thức mới cho nhân loại. Thế nhưng, AI thực sự là gì? Làm thế nào nó có thể thay đổi cách chúng ta sống và làm việc? Trong bài viết này, chúng ta sẽ khám phá các khía cạnh của AI từ xu hướng đến những người chơi chính trong lĩnh vực này, đồng thời nêu bật những tin tức mới nhất đáng chú ý.\n",
      "\n",
      "## 2. Đối Tượng Mục Tiêu\n",
      "\n",
      "Điều quan trọng là xác định đối tượng lý tưởng cho bài viết này. Chúng ta hướng đến:\n",
      "\n",
      "- **Chuyên gia trong lĩnh vực công nghệ:** Những người đã có nền tảng vững chắc và đang tìm kiếm các xu hướng mới trong nghiên cứu và phát triển AI.\n",
      "\n",
      "- **Doanh nhân và nhà đầu tư:** Những người có nhãn quan kinh doanh sắc bén và đang tìm kiếm cơ hội mới trong lĩnh vực công nghệ AI, từ việc triển khai ứng dụng đến đầu tư vào các công ty khởi nghiệp.\n",
      "\n",
      "- **Sinh viên và người mới bắt đầu:** Những ai có sự quan tâm đặc biệt đến AI nhưng thiếu lượng thông tin và kiến thức cần thiết.\n",
      "\n",
      "Mọi người thường băn khoăn về các ứng dụng thực tiễn của AI và cách nó sẽ ảnh hưởng đến thị trường lao động trong tương lai. Một thách thức lớn là nhiều người vẫn chưa hiểu rõ về cách sử dụng AI một cách hiệu quả, cũng như lo ngại về quyền riêng tư và các vấn đề đạo đức có thể xảy ra.\n",
      "\n",
      "## 3. Nội dung chính\n",
      "\n",
      "### 3.1 Xu Hướng Mới Nhất Trong AI\n",
      "\n",
      "Trí tuệ nhân tạo đang ở một giai đoạn phát triển mạnh mẽ với nhiều xu hướng nổi bật, trong đó có:\n",
      "\n",
      "- **AI Generative:** Thuật ngữ này đề cập đến khả năng của các mô hình AI trong việc tạo ra nội dung, hình ảnh, âm thanh và video mới, mở ra cơ hội sáng tạo không giới hạn cho nghệ sĩ và nhà sản xuất.\n",
      "\n",
      "- **AI trong IoT:** Sự hợp tác giữa AI và Internet của Vạn Vật đang mở rộng, tăng cường khả năng tự động hóa và tối ưu hóa trong các thiết bị thông minh, từ nhà thông minh đến công nghiệp 4.0.\n",
      "\n",
      "- **Trí tuệ nhân tạo tự học:** Công nghệ Machine Learning và Deep Learning cho phép máy tính học hỏi từ dữ liệu mà không cần sự can thiệp của con người, từ đó cải thiện khả năng ra quyết định và tối ưu hóa quy trình kinh doanh.\n",
      "\n",
      "### 3.2 Những Người Chơi Chính Trong Lĩnh Vực AI\n",
      "\n",
      "Không thể không nhắc đến các công ty đang dẫn dắt trong lĩnh vực AI, bao gồm:\n",
      "\n",
      "- **Google:** Với các sản phẩm như TensorFlow, Google đã tạo dựng nền tảng vững chắc cho việc nghiên cứu và ứng dụng AI trên toàn cầu.\n",
      "\n",
      "- **IBM:** Một trong những tên tuổi lâu đời nhất, IBM đã đóng góp vào sự phát triển của AI thông qua Watson, một nền tảng phân tích dữ liệu và trí tuệ nhân tạo.\n",
      "\n",
      "- **OpenAI và Microsoft:** Sự kết hợp giữa hai gã khổng lồ này đại diện cho một trong những sáng kiến đổi mới mạnh mẽ nhất trong AI, tạo ra các ứng dụng như ChatGPT.\n",
      "\n",
      "Đồng thời, các doanh nghiệp khởi nghiệp trẻ tuổi cũng đang đóng một vai trò quan trọng, từ việc phát triển phần mềm AI cho đến công nghệ mới mẻ trong lĩnh vực này.\n",
      "\n",
      "### 3.3 Tin Tức Đáng Chú Ý\n",
      "\n",
      "Gần đây, nhiều sự kiện nổi bật đã xảy ra trong lĩnh vực AI:\n",
      "\n",
      "- **Sáng kiến ChatGPT:** Sự thành công vang dội của ChatGPT từ OpenAI đã mở ra nhiều cuộc thảo luận về việc sử dụng AI trong giao tiếp và sáng tạo nội dung.\n",
      "\n",
      "- **Quy định mới:** Các điều luật mới về AI và bảo mật thông tin đang xuất hiện, nhằm bảo vệ quyền lợi của người dùng và tạo ra một môi trường công bằng cho việc phát triển công nghệ.\n",
      "\n",
      "- **Dự báo tăng trưởng đầu tư:** Các chuyên gia cho biết, đầu tư vào AI sẽ tăng gấp đôi trong vòng 5 năm tới, cho thấy tiềm năng phát triển mạnh mẽ của lĩnh vực này.\n",
      "\n",
      "## 4. Kêu gọi hành động\n",
      "\n",
      "Hãy theo dõi các tin tức và cập nhật mới nhất về AI để không bỏ lỡ những cơ hội quan trọng. Nếu bạn muốn tìm hiểu sâu hơn, hãy tham gia vào các khóa học online từ các nền tảng như Coursera hay edX. Bên cạnh đó, chúng tôi cũng khuyến khích bạn tham khảo các tài liệu nghiên cứu từ McKinsey hay Forrester để nắm vững hơn về sự phát triển của AI.\n",
      "\n",
      "## 5. Kết luận\n",
      "\n",
      "Chúng ta vừa khám phá sơ lược về các xu hướng mới nhất và những người chơi chính trong lĩnh vực trí tuệ nhân tạo, cũng như các tin tức đáng chú ý. AI không chỉ là một công nghệ mà còn là một cuộc cách mạng hình thành nên tương lai của con người. Bằng việc hiểu rõ hơn về AI, bạn có thể đưa ra những quyết định thông minh hơn trong công việc và cuộc sống hàng ngày. Hãy tham gia vào cộng đồng yêu thích công nghệ AI để cùng nhau khám phá những điều kỳ diệu mà công nghệ này mang lại!\n",
      "\n",
      "---\n",
      "\n",
      "Bài viết này không chỉ nhằm cung cấp cái nhìn tổng quan về lĩnh vực AI mà còn tạo cơ hội cho độc giả tìm hiểu và áp dụng vào cuộc sống và công việc của mình.\n"
     ]
    }
   ],
   "source": [
    "print(output)"
   ]
  },
  {
   "cell_type": "code",
   "execution_count": null,
   "metadata": {},
   "outputs": [],
   "source": []
  }
 ],
 "metadata": {
  "kernelspec": {
   "display_name": "base",
   "language": "python",
   "name": "python3"
  },
  "language_info": {
   "codemirror_mode": {
    "name": "ipython",
    "version": 3
   },
   "file_extension": ".py",
   "mimetype": "text/x-python",
   "name": "python",
   "nbconvert_exporter": "python",
   "pygments_lexer": "ipython3",
   "version": "3.11.10"
  }
 },
 "nbformat": 4,
 "nbformat_minor": 2
}
